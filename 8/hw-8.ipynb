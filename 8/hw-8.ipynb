{
 "cells": [
  {
   "cell_type": "code",
   "execution_count": 1,
   "id": "367a245b-1c38-4287-b8fa-83df942cacd8",
   "metadata": {},
   "outputs": [],
   "source": [
    "import numpy as np\n",
    "import matplotlib.pyplot as plt\n",
    "\n",
    "%matplotlib inline\n",
    "\n",
    "import tensorflow as tf\n",
    "from tensorflow import keras"
   ]
  },
  {
   "cell_type": "code",
   "execution_count": 2,
   "id": "558bda64-ec48-49d9-ae2b-6e8f75dc3cdc",
   "metadata": {},
   "outputs": [
    {
     "name": "stderr",
     "output_type": "stream",
     "text": [
      "2021-11-21 17:05:22.776308: I tensorflow/core/platform/cpu_feature_guard.cc:151] This TensorFlow binary is optimized with oneAPI Deep Neural Network Library (oneDNN) to use the following CPU instructions in performance-critical operations:  AVX2 FMA\n",
      "To enable them in other operations, rebuild TensorFlow with the appropriate compiler flags.\n"
     ]
    }
   ],
   "source": [
    "inputs = keras.Input(shape=(150, 150, 3))\n",
    "conv_layer = keras.layers.Conv2D(filters=32, kernel_size=(3, 3), activation='relu')(inputs)\n",
    "pooling = keras.layers.MaxPooling2D(pool_size=(2, 2))(conv_layer)\n",
    "flatten = keras.layers.Flatten()(pooling)\n",
    "dense = keras.layers.Dense(64, activation='relu')(flatten)\n",
    "output = keras.layers.Dense(1, activation='sigmoid')(dense)\n",
    "model = keras.Model(inputs, output)"
   ]
  },
  {
   "cell_type": "markdown",
   "id": "bbccd0b5-3d62-4842-a79e-d2e774c26ebe",
   "metadata": {},
   "source": [
    "### 1"
   ]
  },
  {
   "cell_type": "code",
   "execution_count": 3,
   "id": "7e47812b-cf8b-4410-ad62-9e378be11d95",
   "metadata": {},
   "outputs": [],
   "source": [
    "optimizer = keras.optimizers.SGD(learning_rate=0.002, momentum=0.8)\n",
    "loss = keras.losses.BinaryCrossentropy()"
   ]
  },
  {
   "cell_type": "code",
   "execution_count": 4,
   "id": "379d154c-e466-491b-8aab-9c789d5128ea",
   "metadata": {},
   "outputs": [],
   "source": [
    "model.compile(optimizer=optimizer, loss=loss, metrics=['accuracy'])"
   ]
  },
  {
   "cell_type": "markdown",
   "id": "9b1750a6-6cc0-46dc-ac2b-e5f3e899eac5",
   "metadata": {},
   "source": [
    "### 2"
   ]
  },
  {
   "cell_type": "code",
   "execution_count": 5,
   "id": "ece060f3-f576-4fc7-a151-453f207caf44",
   "metadata": {},
   "outputs": [
    {
     "name": "stdout",
     "output_type": "stream",
     "text": [
      "Model: \"model\"\n",
      "_________________________________________________________________\n",
      " Layer (type)                Output Shape              Param #   \n",
      "=================================================================\n",
      " input_1 (InputLayer)        [(None, 150, 150, 3)]     0         \n",
      "                                                                 \n",
      " conv2d (Conv2D)             (None, 148, 148, 32)      896       \n",
      "                                                                 \n",
      " max_pooling2d (MaxPooling2D  (None, 74, 74, 32)       0         \n",
      " )                                                               \n",
      "                                                                 \n",
      " flatten (Flatten)           (None, 175232)            0         \n",
      "                                                                 \n",
      " dense (Dense)               (None, 64)                11214912  \n",
      "                                                                 \n",
      " dense_1 (Dense)             (None, 1)                 65        \n",
      "                                                                 \n",
      "=================================================================\n",
      "Total params: 11,215,873\n",
      "Trainable params: 11,215,873\n",
      "Non-trainable params: 0\n",
      "_________________________________________________________________\n"
     ]
    }
   ],
   "source": [
    "model.summary()"
   ]
  },
  {
   "cell_type": "markdown",
   "id": "d87024c6-640c-4963-8f7a-e650c71cac1a",
   "metadata": {},
   "source": [
    "### 3"
   ]
  },
  {
   "cell_type": "code",
   "execution_count": 6,
   "id": "fc36ddea-8036-42cb-8b47-14a9a6c12034",
   "metadata": {},
   "outputs": [],
   "source": [
    "from tensorflow.keras.preprocessing.image import ImageDataGenerator\n",
    "\n",
    "train_gen = ImageDataGenerator(rescale=1./255)\n",
    "\n",
    "train_ds = train_gen.flow_from_directory(\n",
    "    './cat_dog/train', \n",
    "    target_size=(150, 150), \n",
    "    batch_size=20, \n",
    "    class_mode='binary',\n",
    "    shuffle=True\n",
    ")\n",
    "\n",
    "val_gen = ImageDataGenerator(rescale=1./255)\n",
    "\n",
    "val_ds = val_gen.flow_from_directory(\n",
    "    './cat_dog/validation', \n",
    "    target_size=(150, 150), \n",
    "    batch_size=20, \n",
    "    class_mode='binary',\n",
    "    shuffle=True\n",
    ")"
   ]
  },
  {
   "cell_type": "code",
   "execution_count": 8,
   "id": "f35fb33b-820d-421f-a980-a0f5310d528d",
   "metadata": {},
   "outputs": [
    {
     "name": "stdout",
     "output_type": "stream",
     "text": [
      "Epoch 1/10\n",
      "100/100 [==============================] - 16s 161ms/step - loss: 0.6963 - accuracy: 0.5190 - val_loss: 0.6947 - val_accuracy: 0.5030\n",
      "Epoch 2/10\n",
      "100/100 [==============================] - 15s 154ms/step - loss: 0.6855 - accuracy: 0.5500 - val_loss: 0.6840 - val_accuracy: 0.5490\n",
      "Epoch 3/10\n",
      "100/100 [==============================] - 15s 152ms/step - loss: 0.6779 - accuracy: 0.5705 - val_loss: 0.6760 - val_accuracy: 0.5990\n",
      "Epoch 4/10\n",
      "100/100 [==============================] - 15s 153ms/step - loss: 0.6724 - accuracy: 0.5720 - val_loss: 0.6657 - val_accuracy: 0.5880\n",
      "Epoch 5/10\n",
      "100/100 [==============================] - 15s 153ms/step - loss: 0.6663 - accuracy: 0.5930 - val_loss: 0.6518 - val_accuracy: 0.6200\n",
      "Epoch 6/10\n",
      "100/100 [==============================] - 15s 153ms/step - loss: 0.6585 - accuracy: 0.6050 - val_loss: 0.6597 - val_accuracy: 0.5870\n",
      "Epoch 7/10\n",
      "100/100 [==============================] - 15s 153ms/step - loss: 0.6530 - accuracy: 0.6080 - val_loss: 0.6431 - val_accuracy: 0.6190\n",
      "Epoch 8/10\n",
      "100/100 [==============================] - 16s 155ms/step - loss: 0.6528 - accuracy: 0.5975 - val_loss: 0.6393 - val_accuracy: 0.6210\n",
      "Epoch 9/10\n",
      "100/100 [==============================] - 15s 154ms/step - loss: 0.6470 - accuracy: 0.6010 - val_loss: 0.6427 - val_accuracy: 0.6290\n",
      "Epoch 10/10\n",
      "100/100 [==============================] - 15s 153ms/step - loss: 0.6456 - accuracy: 0.6180 - val_loss: 0.6533 - val_accuracy: 0.6070\n"
     ]
    }
   ],
   "source": [
    "history = model.fit(\n",
    "        train_ds,\n",
    "        steps_per_epoch=100,\n",
    "        epochs=10,\n",
    "        validation_data=val_ds,\n",
    "        validation_steps=50\n",
    "    )"
   ]
  },
  {
   "cell_type": "code",
   "execution_count": 15,
   "id": "c5c192b8-8a8f-41f4-b763-2d00c8b6c731",
   "metadata": {},
   "outputs": [
    {
     "data": {
      "text/plain": [
       "0.5952500104904175"
      ]
     },
     "execution_count": 15,
     "metadata": {},
     "output_type": "execute_result"
    }
   ],
   "source": [
    "np.median(history.history['accuracy'])"
   ]
  },
  {
   "cell_type": "markdown",
   "id": "d95fea99-0c9b-465c-bf2b-8f40424de723",
   "metadata": {},
   "source": [
    "### 4"
   ]
  },
  {
   "cell_type": "code",
   "execution_count": 16,
   "id": "e0f93e4d-d1d3-4822-b283-e56ae308935a",
   "metadata": {},
   "outputs": [
    {
     "data": {
      "text/plain": [
       "0.016304477735014547"
      ]
     },
     "execution_count": 16,
     "metadata": {},
     "output_type": "execute_result"
    }
   ],
   "source": [
    "np.std(history.history['loss'])"
   ]
  },
  {
   "cell_type": "markdown",
   "id": "7a743cb0-af9c-43a6-a8d2-bfb8a27fcb3f",
   "metadata": {},
   "source": [
    "### 5"
   ]
  },
  {
   "cell_type": "code",
   "execution_count": 17,
   "id": "38d33ead-af40-40f0-a05a-4ee12e4d7505",
   "metadata": {},
   "outputs": [
    {
     "name": "stdout",
     "output_type": "stream",
     "text": [
      "Found 20000 images belonging to 2 classes.\n"
     ]
    }
   ],
   "source": [
    "train_gen = ImageDataGenerator(\n",
    "    rotation_range=40, \n",
    "    width_shift_range=0.2, \n",
    "    height_shift_range=0.2, \n",
    "    shear_range=0.2, \n",
    "    zoom_range=0.2, \n",
    "    horizontal_flip=True, \n",
    "    fill_mode='nearest',\n",
    "    rescale=1./255\n",
    ")\n",
    "\n",
    "train_ds = train_gen.flow_from_directory(\n",
    "    './cat_dog/train', \n",
    "    target_size=(150, 150), \n",
    "    batch_size=20, \n",
    "    class_mode='binary',\n",
    "    shuffle=True\n",
    ")"
   ]
  },
  {
   "cell_type": "code",
   "execution_count": 18,
   "id": "7b56a5e8-cc57-4188-a230-8143f94a988c",
   "metadata": {},
   "outputs": [
    {
     "name": "stdout",
     "output_type": "stream",
     "text": [
      "Epoch 1/10\n",
      "100/100 [==============================] - 23s 225ms/step - loss: 0.6685 - accuracy: 0.5810 - val_loss: 0.6574 - val_accuracy: 0.5940\n",
      "Epoch 2/10\n",
      "100/100 [==============================] - 22s 222ms/step - loss: 0.6591 - accuracy: 0.5965 - val_loss: 0.6223 - val_accuracy: 0.6530\n",
      "Epoch 3/10\n",
      "100/100 [==============================] - 22s 223ms/step - loss: 0.6622 - accuracy: 0.5895 - val_loss: 0.6264 - val_accuracy: 0.6500\n",
      "Epoch 4/10\n",
      "100/100 [==============================] - 22s 223ms/step - loss: 0.6534 - accuracy: 0.6075 - val_loss: 0.6698 - val_accuracy: 0.5860\n",
      "Epoch 5/10\n",
      "100/100 [==============================] - 22s 224ms/step - loss: 0.6602 - accuracy: 0.5765 - val_loss: 0.6154 - val_accuracy: 0.6320\n",
      "Epoch 6/10\n",
      "100/100 [==============================] - 23s 225ms/step - loss: 0.6530 - accuracy: 0.6065 - val_loss: 0.6294 - val_accuracy: 0.6400\n",
      "Epoch 7/10\n",
      "100/100 [==============================] - 23s 226ms/step - loss: 0.6466 - accuracy: 0.6125 - val_loss: 0.6305 - val_accuracy: 0.6480\n",
      "Epoch 8/10\n",
      "100/100 [==============================] - 23s 227ms/step - loss: 0.6542 - accuracy: 0.6080 - val_loss: 0.6293 - val_accuracy: 0.6620\n",
      "Epoch 9/10\n",
      "100/100 [==============================] - 24s 240ms/step - loss: 0.6521 - accuracy: 0.6275 - val_loss: 0.6215 - val_accuracy: 0.6660\n",
      "Epoch 10/10\n",
      "100/100 [==============================] - 23s 233ms/step - loss: 0.6370 - accuracy: 0.6300 - val_loss: 0.6213 - val_accuracy: 0.6440\n"
     ]
    }
   ],
   "source": [
    "history_new = model.fit(\n",
    "        train_ds,\n",
    "        steps_per_epoch=100,\n",
    "        epochs=10,\n",
    "        validation_data=val_ds,\n",
    "        validation_steps=50\n",
    "    )"
   ]
  },
  {
   "cell_type": "code",
   "execution_count": 20,
   "id": "bee8de61-376a-485c-9b3f-442598ebccd0",
   "metadata": {},
   "outputs": [
    {
     "data": {
      "text/plain": [
       "0.6323312282562256"
      ]
     },
     "execution_count": 20,
     "metadata": {},
     "output_type": "execute_result"
    }
   ],
   "source": [
    "np.mean(history_new.history['val_loss'])"
   ]
  },
  {
   "cell_type": "markdown",
   "id": "20be18b6-0449-410f-93ce-4778620dbcd3",
   "metadata": {},
   "source": [
    "### 6"
   ]
  },
  {
   "cell_type": "code",
   "execution_count": 24,
   "id": "d733f79e-bf80-452e-a735-3691b3034547",
   "metadata": {},
   "outputs": [
    {
     "data": {
      "text/plain": [
       "0.6519999980926514"
      ]
     },
     "execution_count": 24,
     "metadata": {},
     "output_type": "execute_result"
    }
   ],
   "source": [
    "np.mean(history_new.history['val_accuracy'][5:])"
   ]
  }
 ],
 "metadata": {
  "kernelspec": {
   "display_name": "Python 3.8.11 64-bit ('mlzoomcamp': conda)",
   "language": "python",
   "name": "python381164bitmlzoomcampconda946de060af8e4baebddb1d08ab53a61d"
  },
  "language_info": {
   "codemirror_mode": {
    "name": "ipython",
    "version": 3
   },
   "file_extension": ".py",
   "mimetype": "text/x-python",
   "name": "python",
   "nbconvert_exporter": "python",
   "pygments_lexer": "ipython3",
   "version": "3.8.11"
  }
 },
 "nbformat": 4,
 "nbformat_minor": 5
}
